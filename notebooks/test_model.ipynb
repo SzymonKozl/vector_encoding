{
 "cells": [
  {
   "cell_type": "code",
   "execution_count": 129,
   "metadata": {
    "collapsed": true
   },
   "outputs": [],
   "source": [
    "import tensorflow as tf\n",
    "from tensorflow import keras\n",
    "import numpy as np\n",
    "from random import choices"
   ]
  },
  {
   "cell_type": "code",
   "source": [
    "import models.embd_to_wb.objects as objects"
   ],
   "metadata": {
    "collapsed": false
   },
   "execution_count": 2,
   "outputs": []
  },
  {
   "cell_type": "code",
   "execution_count": 3,
   "outputs": [],
   "source": [
    "custom_objects = {\n",
    "    \"EncoderLayer\": objects.EncoderLayer,\n",
    "    \"DecoderLayer\": objects.DecoderLayer,\n",
    "    \"EncoderLayerSyl\": objects.EncoderLayerSyl,\n",
    "    \"DecoderLayerSyl\": objects.DecoderLayerSyl,\n",
    "    \"FiltrationLayer\": objects.FiltrationLayer,\n",
    "    \"ConsistencyLoss\": objects.ConsistencyLoss,\n",
    "    \"LettersDistributionLoss\": objects.LettersDistributionLoss,\n",
    "    \"SequenceLoss\": objects.SequenceLoss,\n",
    "}"
   ],
   "metadata": {
    "collapsed": false
   }
  },
  {
   "cell_type": "code",
   "execution_count": 4,
   "outputs": [],
   "source": [
    "model = keras.models.load_model(r\"C:\\Users\\szymon\\Desktop\\pycharm\\babel\\models\\embd_to_wb\\trained\\m1_0syl\", custom_objects=custom_objects)"
   ],
   "metadata": {
    "collapsed": false
   }
  },
  {
   "cell_type": "code",
   "execution_count": 5,
   "outputs": [],
   "source": [
    "import gensim\n",
    "import json"
   ],
   "metadata": {
    "collapsed": false
   }
  },
  {
   "cell_type": "code",
   "execution_count": 6,
   "outputs": [],
   "source": [
    "config = json.load(open(r\"C:\\Users\\szymon\\Desktop\\pycharm\\babel\\scripts\\load_config.json\", \"r\"))"
   ],
   "metadata": {
    "collapsed": false
   }
  },
  {
   "cell_type": "code",
   "execution_count": 7,
   "outputs": [],
   "source": [
    "kv = gensim.models.KeyedVectors.load_word2vec_format(config[\"data_path\"], binary=config[\"data_path\"].endswith('.bin'))"
   ],
   "metadata": {
    "collapsed": false
   }
  },
  {
   "cell_type": "code",
   "execution_count": 12,
   "outputs": [],
   "source": [
    "def to_str(word_vec):\n",
    "    return \"\".join([chr(ord('a') + np.argmax(word_vec[0][i])) for i in range(15)])"
   ],
   "metadata": {
    "collapsed": false
   }
  },
  {
   "cell_type": "code",
   "execution_count": 120,
   "outputs": [],
   "source": [
    "v, w = model(tf.expand_dims(tf.convert_to_tensor(kv[\"gracz\"]), axis=0))"
   ],
   "metadata": {
    "collapsed": false
   }
  },
  {
   "cell_type": "code",
   "execution_count": 121,
   "outputs": [
    {
     "data": {
      "text/plain": "[('gracz', 0.6346501708030701),\n ('batsman', 0.5733568668365479),\n ('rozgrywający', 0.5698695778846741),\n ('robot', 0.5636588931083679),\n ('wojownik', 0.5576330423355103),\n ('artefakt', 0.5543435215950012),\n ('bandyta', 0.551970899105072),\n ('bowler', 0.5510005354881287),\n ('wicket', 0.5486462116241455),\n ('cyborg', 0.5455678701400757)]"
     },
     "execution_count": 121,
     "metadata": {},
     "output_type": "execute_result"
    }
   ],
   "source": [
    "kv.similar_by_vector(v[0].numpy())"
   ],
   "metadata": {
    "collapsed": false
   }
  },
  {
   "cell_type": "code",
   "execution_count": 122,
   "outputs": [
    {
     "data": {
      "text/plain": "'ycqrsdybcsxysxv'"
     },
     "execution_count": 122,
     "metadata": {},
     "output_type": "execute_result"
    }
   ],
   "source": [
    "to_str(w)"
   ],
   "metadata": {
    "collapsed": false
   }
  },
  {
   "cell_type": "code",
   "execution_count": 123,
   "outputs": [],
   "source": [
    "v2, w2 = model(tf.expand_dims(tf.convert_to_tensor(kv[\"gracza\"]), axis=0))"
   ],
   "metadata": {
    "collapsed": false
   }
  },
  {
   "cell_type": "code",
   "execution_count": 124,
   "outputs": [
    {
     "data": {
      "text/plain": "'fcrrsdiousxdixy'"
     },
     "execution_count": 124,
     "metadata": {},
     "output_type": "execute_result"
    }
   ],
   "source": [
    "to_str(w2)"
   ],
   "metadata": {
    "collapsed": false
   }
  },
  {
   "cell_type": "code",
   "execution_count": 125,
   "outputs": [
    {
     "data": {
      "text/plain": "[('gracza', 0.7314154505729675),\n ('hakera', 0.6098373532295227),\n ('jokera', 0.5903720855712891),\n ('mordercę', 0.5801571011543274),\n ('Batmana', 0.5778442025184631),\n ('Raymana', 0.5703538656234741),\n ('przestępcę', 0.5695379376411438),\n ('Shadowa', 0.5677685737609863),\n ('superbohatera', 0.5640982985496521),\n ('zawodnika', 0.558523952960968)]"
     },
     "execution_count": 125,
     "metadata": {},
     "output_type": "execute_result"
    }
   ],
   "source": [
    "kv.similar_by_vector(v2[0].numpy())"
   ],
   "metadata": {
    "collapsed": false
   }
  },
  {
   "cell_type": "code",
   "execution_count": 136,
   "outputs": [],
   "source": [
    "def app_accuracy(trials: int) -> float:\n",
    "    samples = choices(kv.index_to_key, trials)\n",
    "    succeded = 0\n",
    "    print(choices)\n",
    "    predictions = model(tf.convert_to_tensor(choices))\n",
    "    for v, w in zip(samples, predictions):\n",
    "        if kv.similar_by_vector(v, 1)[0][1] == kv.similar_by_vector(w, 1)[0][1]:\n",
    "            succeded += 1\n",
    "        return succeded / trials"
   ],
   "metadata": {
    "collapsed": false
   }
  },
  {
   "cell_type": "code",
   "execution_count": 137,
   "outputs": [
    {
     "ename": "TypeError",
     "evalue": "'int' object is not iterable",
     "output_type": "error",
     "traceback": [
      "\u001B[1;31m---------------------------------------------------------------------------\u001B[0m",
      "\u001B[1;31mTypeError\u001B[0m                                 Traceback (most recent call last)",
      "\u001B[1;32m~\\AppData\\Local\\Temp\\ipykernel_1708\\3756440347.py\u001B[0m in \u001B[0;36m<module>\u001B[1;34m\u001B[0m\n\u001B[1;32m----> 1\u001B[1;33m \u001B[0mapp_accuracy\u001B[0m\u001B[1;33m(\u001B[0m\u001B[1;36m100\u001B[0m\u001B[1;33m)\u001B[0m\u001B[1;33m\u001B[0m\u001B[1;33m\u001B[0m\u001B[0m\n\u001B[0m",
      "\u001B[1;32m~\\AppData\\Local\\Temp\\ipykernel_1708\\246354393.py\u001B[0m in \u001B[0;36mapp_accuracy\u001B[1;34m(trials)\u001B[0m\n\u001B[0;32m      1\u001B[0m \u001B[1;32mdef\u001B[0m \u001B[0mapp_accuracy\u001B[0m\u001B[1;33m(\u001B[0m\u001B[0mtrials\u001B[0m\u001B[1;33m:\u001B[0m \u001B[0mint\u001B[0m\u001B[1;33m)\u001B[0m \u001B[1;33m->\u001B[0m \u001B[0mfloat\u001B[0m\u001B[1;33m:\u001B[0m\u001B[1;33m\u001B[0m\u001B[1;33m\u001B[0m\u001B[0m\n\u001B[1;32m----> 2\u001B[1;33m     \u001B[0msamples\u001B[0m \u001B[1;33m=\u001B[0m \u001B[0mchoices\u001B[0m\u001B[1;33m(\u001B[0m\u001B[0mkv\u001B[0m\u001B[1;33m.\u001B[0m\u001B[0mindex_to_key\u001B[0m\u001B[1;33m,\u001B[0m \u001B[0mtrials\u001B[0m\u001B[1;33m)\u001B[0m\u001B[1;33m\u001B[0m\u001B[1;33m\u001B[0m\u001B[0m\n\u001B[0m\u001B[0;32m      3\u001B[0m     \u001B[0msucceded\u001B[0m \u001B[1;33m=\u001B[0m \u001B[1;36m0\u001B[0m\u001B[1;33m\u001B[0m\u001B[1;33m\u001B[0m\u001B[0m\n\u001B[0;32m      4\u001B[0m     \u001B[0mprint\u001B[0m\u001B[1;33m(\u001B[0m\u001B[0mchoices\u001B[0m\u001B[1;33m)\u001B[0m\u001B[1;33m\u001B[0m\u001B[1;33m\u001B[0m\u001B[0m\n\u001B[0;32m      5\u001B[0m     \u001B[0mpredictions\u001B[0m \u001B[1;33m=\u001B[0m \u001B[0mmodel\u001B[0m\u001B[1;33m(\u001B[0m\u001B[0mtf\u001B[0m\u001B[1;33m.\u001B[0m\u001B[0mconvert_to_tensor\u001B[0m\u001B[1;33m(\u001B[0m\u001B[0mchoices\u001B[0m\u001B[1;33m)\u001B[0m\u001B[1;33m)\u001B[0m\u001B[1;33m\u001B[0m\u001B[1;33m\u001B[0m\u001B[0m\n",
      "\u001B[1;32mc:\\users\\szymon\\appdata\\local\\programs\\python\\python39\\lib\\random.py\u001B[0m in \u001B[0;36mchoices\u001B[1;34m(self, population, weights, cum_weights, k)\u001B[0m\n\u001B[0;32m    486\u001B[0m                 \u001B[0mn\u001B[0m \u001B[1;33m+=\u001B[0m \u001B[1;36m0.0\u001B[0m    \u001B[1;31m# convert to float for a small speed improvement\u001B[0m\u001B[1;33m\u001B[0m\u001B[1;33m\u001B[0m\u001B[0m\n\u001B[0;32m    487\u001B[0m                 \u001B[1;32mreturn\u001B[0m \u001B[1;33m[\u001B[0m\u001B[0mpopulation\u001B[0m\u001B[1;33m[\u001B[0m\u001B[0mfloor\u001B[0m\u001B[1;33m(\u001B[0m\u001B[0mrandom\u001B[0m\u001B[1;33m(\u001B[0m\u001B[1;33m)\u001B[0m \u001B[1;33m*\u001B[0m \u001B[0mn\u001B[0m\u001B[1;33m)\u001B[0m\u001B[1;33m]\u001B[0m \u001B[1;32mfor\u001B[0m \u001B[0mi\u001B[0m \u001B[1;32min\u001B[0m \u001B[0m_repeat\u001B[0m\u001B[1;33m(\u001B[0m\u001B[1;32mNone\u001B[0m\u001B[1;33m,\u001B[0m \u001B[0mk\u001B[0m\u001B[1;33m)\u001B[0m\u001B[1;33m]\u001B[0m\u001B[1;33m\u001B[0m\u001B[1;33m\u001B[0m\u001B[0m\n\u001B[1;32m--> 488\u001B[1;33m             \u001B[0mcum_weights\u001B[0m \u001B[1;33m=\u001B[0m \u001B[0mlist\u001B[0m\u001B[1;33m(\u001B[0m\u001B[0m_accumulate\u001B[0m\u001B[1;33m(\u001B[0m\u001B[0mweights\u001B[0m\u001B[1;33m)\u001B[0m\u001B[1;33m)\u001B[0m\u001B[1;33m\u001B[0m\u001B[1;33m\u001B[0m\u001B[0m\n\u001B[0m\u001B[0;32m    489\u001B[0m         \u001B[1;32melif\u001B[0m \u001B[0mweights\u001B[0m \u001B[1;32mis\u001B[0m \u001B[1;32mnot\u001B[0m \u001B[1;32mNone\u001B[0m\u001B[1;33m:\u001B[0m\u001B[1;33m\u001B[0m\u001B[1;33m\u001B[0m\u001B[0m\n\u001B[0;32m    490\u001B[0m             \u001B[1;32mraise\u001B[0m \u001B[0mTypeError\u001B[0m\u001B[1;33m(\u001B[0m\u001B[1;34m'Cannot specify both weights and cumulative weights'\u001B[0m\u001B[1;33m)\u001B[0m\u001B[1;33m\u001B[0m\u001B[1;33m\u001B[0m\u001B[0m\n",
      "\u001B[1;31mTypeError\u001B[0m: 'int' object is not iterable"
     ]
    }
   ],
   "source": [
    "app_accuracy(100)"
   ],
   "metadata": {
    "collapsed": false
   }
  },
  {
   "cell_type": "code",
   "execution_count": 141,
   "outputs": [
    {
     "data": {
      "text/plain": "'kwietnia'"
     },
     "execution_count": 141,
     "metadata": {},
     "output_type": "execute_result"
    }
   ],
   "source": [
    "kv.simikv.index_to_key[100]"
   ],
   "metadata": {
    "collapsed": false
   }
  },
  {
   "cell_type": "code",
   "execution_count": null,
   "outputs": [],
   "source": [],
   "metadata": {
    "collapsed": false
   }
  }
 ],
 "metadata": {
  "kernelspec": {
   "display_name": "Python 3",
   "language": "python",
   "name": "python3"
  },
  "language_info": {
   "codemirror_mode": {
    "name": "ipython",
    "version": 2
   },
   "file_extension": ".py",
   "mimetype": "text/x-python",
   "name": "python",
   "nbconvert_exporter": "python",
   "pygments_lexer": "ipython2",
   "version": "2.7.6"
  }
 },
 "nbformat": 4,
 "nbformat_minor": 0
}
